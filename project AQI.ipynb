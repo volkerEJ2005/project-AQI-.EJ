{
 "cells": [
  {
   "cell_type": "code",
   "execution_count": 65,
   "id": "bd46111c-cd64-4e76-86d7-23c081e3c126",
   "metadata": {},
   "outputs": [],
   "source": [
    "import pandas as pd\n"
   ]
  },
  {
   "cell_type": "code",
   "execution_count": 66,
   "id": "d6a5fa6d",
   "metadata": {},
   "outputs": [],
   "source": [
    "import numpy as np"
   ]
  },
  {
   "cell_type": "code",
   "execution_count": 67,
   "id": "07005f24",
   "metadata": {},
   "outputs": [],
   "source": [
    "import seaborn as sb"
   ]
  },
  {
   "cell_type": "code",
   "execution_count": 68,
   "id": "5854ba24",
   "metadata": {},
   "outputs": [],
   "source": [
    "data6=pd.read_csv(r\"C:\\Users\\volker EJ\\OneDrive\\Documents\\data set\\Final!!.csv\")"
   ]
  },
  {
   "cell_type": "code",
   "execution_count": 69,
   "id": "b8056f55",
   "metadata": {},
   "outputs": [
    {
     "data": {
      "text/html": [
       "<div>\n",
       "<style scoped>\n",
       "    .dataframe tbody tr th:only-of-type {\n",
       "        vertical-align: middle;\n",
       "    }\n",
       "\n",
       "    .dataframe tbody tr th {\n",
       "        vertical-align: top;\n",
       "    }\n",
       "\n",
       "    .dataframe thead th {\n",
       "        text-align: right;\n",
       "    }\n",
       "</style>\n",
       "<table border=\"1\" class=\"dataframe\">\n",
       "  <thead>\n",
       "    <tr style=\"text-align: right;\">\n",
       "      <th></th>\n",
       "      <th>PARAMETERS</th>\n",
       "      <th>SO2</th>\n",
       "      <th>CO</th>\n",
       "      <th>NO</th>\n",
       "      <th>NO2</th>\n",
       "      <th>NOX</th>\n",
       "      <th>NH3</th>\n",
       "      <th>O3</th>\n",
       "      <th>AQI</th>\n",
       "      <th>WS</th>\n",
       "      <th>WD</th>\n",
       "      <th>RH</th>\n",
       "      <th>SR</th>\n",
       "      <th>TC</th>\n",
       "    </tr>\n",
       "  </thead>\n",
       "  <tbody>\n",
       "    <tr>\n",
       "      <th>0</th>\n",
       "      <td>01/01/2023</td>\n",
       "      <td>2.02</td>\n",
       "      <td>0.06</td>\n",
       "      <td>8.93</td>\n",
       "      <td>17.84</td>\n",
       "      <td>26.00</td>\n",
       "      <td>8.93</td>\n",
       "      <td>26.07</td>\n",
       "      <td>72</td>\n",
       "      <td>0.33</td>\n",
       "      <td>37.96</td>\n",
       "      <td>80.27</td>\n",
       "      <td>199.80</td>\n",
       "      <td>28.70</td>\n",
       "    </tr>\n",
       "    <tr>\n",
       "      <th>1</th>\n",
       "      <td>02/01/2023</td>\n",
       "      <td>1.63</td>\n",
       "      <td>0.12</td>\n",
       "      <td>8.89</td>\n",
       "      <td>17.74</td>\n",
       "      <td>26.00</td>\n",
       "      <td>8.89</td>\n",
       "      <td>25.97</td>\n",
       "      <td>81</td>\n",
       "      <td>0.47</td>\n",
       "      <td>33.84</td>\n",
       "      <td>82.50</td>\n",
       "      <td>189.10</td>\n",
       "      <td>28.11</td>\n",
       "    </tr>\n",
       "    <tr>\n",
       "      <th>2</th>\n",
       "      <td>03/01/2023</td>\n",
       "      <td>3.46</td>\n",
       "      <td>0.03</td>\n",
       "      <td>8.91</td>\n",
       "      <td>17.89</td>\n",
       "      <td>26.00</td>\n",
       "      <td>8.91</td>\n",
       "      <td>26.03</td>\n",
       "      <td>82</td>\n",
       "      <td>0.19</td>\n",
       "      <td>54.37</td>\n",
       "      <td>71.00</td>\n",
       "      <td>203.10</td>\n",
       "      <td>28.55</td>\n",
       "    </tr>\n",
       "    <tr>\n",
       "      <th>3</th>\n",
       "      <td>04/01/2023</td>\n",
       "      <td>2.79</td>\n",
       "      <td>0.11</td>\n",
       "      <td>8.88</td>\n",
       "      <td>17.77</td>\n",
       "      <td>26.00</td>\n",
       "      <td>8.88</td>\n",
       "      <td>25.95</td>\n",
       "      <td>79</td>\n",
       "      <td>0.54</td>\n",
       "      <td>40.44</td>\n",
       "      <td>78.11</td>\n",
       "      <td>205.20</td>\n",
       "      <td>28.25</td>\n",
       "    </tr>\n",
       "    <tr>\n",
       "      <th>4</th>\n",
       "      <td>05/01/2023</td>\n",
       "      <td>1.15</td>\n",
       "      <td>0.22</td>\n",
       "      <td>9.48</td>\n",
       "      <td>17.73</td>\n",
       "      <td>26.00</td>\n",
       "      <td>9.48</td>\n",
       "      <td>23.93</td>\n",
       "      <td>84</td>\n",
       "      <td>0.43</td>\n",
       "      <td>42.53</td>\n",
       "      <td>78.56</td>\n",
       "      <td>202.30</td>\n",
       "      <td>28.55</td>\n",
       "    </tr>\n",
       "    <tr>\n",
       "      <th>...</th>\n",
       "      <td>...</td>\n",
       "      <td>...</td>\n",
       "      <td>...</td>\n",
       "      <td>...</td>\n",
       "      <td>...</td>\n",
       "      <td>...</td>\n",
       "      <td>...</td>\n",
       "      <td>...</td>\n",
       "      <td>...</td>\n",
       "      <td>...</td>\n",
       "      <td>...</td>\n",
       "      <td>...</td>\n",
       "      <td>...</td>\n",
       "      <td>...</td>\n",
       "    </tr>\n",
       "    <tr>\n",
       "      <th>670</th>\n",
       "      <td>12/27/2024</td>\n",
       "      <td>3.53</td>\n",
       "      <td>0.53</td>\n",
       "      <td>1.45</td>\n",
       "      <td>5.34</td>\n",
       "      <td>6.68</td>\n",
       "      <td>1.45</td>\n",
       "      <td>36.20</td>\n",
       "      <td>66</td>\n",
       "      <td>0.80</td>\n",
       "      <td>151.19</td>\n",
       "      <td>83.99</td>\n",
       "      <td>98.19</td>\n",
       "      <td>30.23</td>\n",
       "    </tr>\n",
       "    <tr>\n",
       "      <th>671</th>\n",
       "      <td>12/28/2024</td>\n",
       "      <td>3.65</td>\n",
       "      <td>0.48</td>\n",
       "      <td>1.44</td>\n",
       "      <td>5.35</td>\n",
       "      <td>6.72</td>\n",
       "      <td>1.44</td>\n",
       "      <td>36.17</td>\n",
       "      <td>64</td>\n",
       "      <td>0.82</td>\n",
       "      <td>159.29</td>\n",
       "      <td>76.87</td>\n",
       "      <td>95.05</td>\n",
       "      <td>29.99</td>\n",
       "    </tr>\n",
       "    <tr>\n",
       "      <th>672</th>\n",
       "      <td>12/29/2024</td>\n",
       "      <td>4.64</td>\n",
       "      <td>0.49</td>\n",
       "      <td>1.42</td>\n",
       "      <td>5.35</td>\n",
       "      <td>6.58</td>\n",
       "      <td>1.42</td>\n",
       "      <td>36.21</td>\n",
       "      <td>60</td>\n",
       "      <td>0.82</td>\n",
       "      <td>148.56</td>\n",
       "      <td>78.66</td>\n",
       "      <td>100.60</td>\n",
       "      <td>30.42</td>\n",
       "    </tr>\n",
       "    <tr>\n",
       "      <th>673</th>\n",
       "      <td>12/30/2024</td>\n",
       "      <td>4.18</td>\n",
       "      <td>0.53</td>\n",
       "      <td>1.44</td>\n",
       "      <td>5.37</td>\n",
       "      <td>6.77</td>\n",
       "      <td>1.44</td>\n",
       "      <td>36.20</td>\n",
       "      <td>60</td>\n",
       "      <td>0.70</td>\n",
       "      <td>143.66</td>\n",
       "      <td>86.57</td>\n",
       "      <td>98.00</td>\n",
       "      <td>30.22</td>\n",
       "    </tr>\n",
       "    <tr>\n",
       "      <th>674</th>\n",
       "      <td>12/31/2024</td>\n",
       "      <td>3.67</td>\n",
       "      <td>0.62</td>\n",
       "      <td>1.42</td>\n",
       "      <td>5.35</td>\n",
       "      <td>6.61</td>\n",
       "      <td>1.42</td>\n",
       "      <td>36.19</td>\n",
       "      <td>60</td>\n",
       "      <td>0.72</td>\n",
       "      <td>163.21</td>\n",
       "      <td>77.02</td>\n",
       "      <td>96.68</td>\n",
       "      <td>30.12</td>\n",
       "    </tr>\n",
       "  </tbody>\n",
       "</table>\n",
       "<p>675 rows × 14 columns</p>\n",
       "</div>"
      ],
      "text/plain": [
       "     PARAMETERS   SO2    CO    NO    NO2    NOX   NH3     O3  AQI    WS  \\\n",
       "0    01/01/2023  2.02  0.06  8.93  17.84  26.00  8.93  26.07   72  0.33   \n",
       "1    02/01/2023  1.63  0.12  8.89  17.74  26.00  8.89  25.97   81  0.47   \n",
       "2    03/01/2023  3.46  0.03  8.91  17.89  26.00  8.91  26.03   82  0.19   \n",
       "3    04/01/2023  2.79  0.11  8.88  17.77  26.00  8.88  25.95   79  0.54   \n",
       "4    05/01/2023  1.15  0.22  9.48  17.73  26.00  9.48  23.93   84  0.43   \n",
       "..          ...   ...   ...   ...    ...    ...   ...    ...  ...   ...   \n",
       "670  12/27/2024  3.53  0.53  1.45   5.34   6.68  1.45  36.20   66  0.80   \n",
       "671  12/28/2024  3.65  0.48  1.44   5.35   6.72  1.44  36.17   64  0.82   \n",
       "672  12/29/2024  4.64  0.49  1.42   5.35   6.58  1.42  36.21   60  0.82   \n",
       "673  12/30/2024  4.18  0.53  1.44   5.37   6.77  1.44  36.20   60  0.70   \n",
       "674  12/31/2024  3.67  0.62  1.42   5.35   6.61  1.42  36.19   60  0.72   \n",
       "\n",
       "         WD     RH      SR     TC  \n",
       "0     37.96  80.27  199.80  28.70  \n",
       "1     33.84  82.50  189.10  28.11  \n",
       "2     54.37  71.00  203.10  28.55  \n",
       "3     40.44  78.11  205.20  28.25  \n",
       "4     42.53  78.56  202.30  28.55  \n",
       "..      ...    ...     ...    ...  \n",
       "670  151.19  83.99   98.19  30.23  \n",
       "671  159.29  76.87   95.05  29.99  \n",
       "672  148.56  78.66  100.60  30.42  \n",
       "673  143.66  86.57   98.00  30.22  \n",
       "674  163.21  77.02   96.68  30.12  \n",
       "\n",
       "[675 rows x 14 columns]"
      ]
     },
     "execution_count": 69,
     "metadata": {},
     "output_type": "execute_result"
    }
   ],
   "source": [
    "data6"
   ]
  },
  {
   "cell_type": "code",
   "execution_count": 70,
   "id": "c59da44c",
   "metadata": {},
   "outputs": [
    {
     "data": {
      "text/plain": [
       "PARAMETERS    0\n",
       "SO2           0\n",
       "CO            0\n",
       "NO            0\n",
       "NO2           0\n",
       "NOX           0\n",
       "NH3           0\n",
       "O3            0\n",
       "AQI           0\n",
       "WS            0\n",
       "WD            0\n",
       "RH            0\n",
       "SR            1\n",
       "TC            0\n",
       "dtype: int64"
      ]
     },
     "execution_count": 70,
     "metadata": {},
     "output_type": "execute_result"
    }
   ],
   "source": [
    "data6.isnull().sum()"
   ]
  },
  {
   "cell_type": "code",
   "execution_count": 71,
   "id": "1c882681",
   "metadata": {},
   "outputs": [
    {
     "name": "stderr",
     "output_type": "stream",
     "text": [
      "C:\\Users\\volker EJ\\AppData\\Local\\Temp\\ipykernel_31608\\3189536587.py:1: FutureWarning: A value is trying to be set on a copy of a DataFrame or Series through chained assignment using an inplace method.\n",
      "The behavior will change in pandas 3.0. This inplace method will never work because the intermediate object on which we are setting values always behaves as a copy.\n",
      "\n",
      "For example, when doing 'df[col].method(value, inplace=True)', try using 'df.method({col: value}, inplace=True)' or df[col] = df[col].method(value) instead, to perform the operation inplace on the original object.\n",
      "\n",
      "\n",
      "  data6['SR'].fillna(data6['SR'].median(), inplace=True)\n"
     ]
    }
   ],
   "source": [
    "data6['SR'].fillna(data6['SR'].median(), inplace=True)\n"
   ]
  },
  {
   "cell_type": "code",
   "execution_count": 72,
   "id": "7f2abdc2",
   "metadata": {},
   "outputs": [
    {
     "name": "stdout",
     "output_type": "stream",
     "text": [
      "0\n"
     ]
    }
   ],
   "source": [
    "print(data6['SR'].isnull().sum())\n"
   ]
  },
  {
   "cell_type": "code",
   "execution_count": 73,
   "id": "06e42d71",
   "metadata": {},
   "outputs": [
    {
     "data": {
      "text/plain": [
       "PARAMETERS    0\n",
       "SO2           0\n",
       "CO            0\n",
       "NO            0\n",
       "NO2           0\n",
       "NOX           0\n",
       "NH3           0\n",
       "O3            0\n",
       "AQI           0\n",
       "WS            0\n",
       "WD            0\n",
       "RH            0\n",
       "SR            0\n",
       "TC            0\n",
       "dtype: int64"
      ]
     },
     "execution_count": 73,
     "metadata": {},
     "output_type": "execute_result"
    }
   ],
   "source": [
    "data6.isnull().sum()"
   ]
  },
  {
   "cell_type": "code",
   "execution_count": 74,
   "id": "0ec45b89",
   "metadata": {},
   "outputs": [],
   "source": [
    "x=data6[['SO2','CO','NO','NO2','NOX','NH3','O3','WS','WD','RH','SR','TC']]\n",
    "y=data6['AQI']"
   ]
  },
  {
   "cell_type": "code",
   "execution_count": 75,
   "id": "1fab31e1",
   "metadata": {},
   "outputs": [],
   "source": [
    "from sklearn.model_selection import train_test_split\n",
    "x_train, x_test, y_train, y_test = train_test_split(x, y, test_size=0.2, random_state=42)"
   ]
  },
  {
   "cell_type": "code",
   "execution_count": 76,
   "id": "7e1bb20b",
   "metadata": {},
   "outputs": [
    {
     "data": {
      "text/plain": [
       "array([79.52945262, 59.67667193, 58.24898343, 60.84412952, 74.47321389,\n",
       "       64.57371618, 59.1010919 , 45.83365983, 58.58512554, 61.5931889 ,\n",
       "       65.51569423, 65.58724624, 57.14079222, 65.84725425, 46.66868553,\n",
       "       40.67020281, 46.5958597 , 78.02313023, 61.47903089, 80.88510088,\n",
       "       39.98431494, 50.59157042, 64.51946985, 36.68405631, 43.16379563,\n",
       "       45.72558157, 58.63943856, 54.91287836, 46.09815578, 75.04737198,\n",
       "       56.6058018 , 66.91303233, 78.30546192, 63.15840692, 50.28278301,\n",
       "       44.49263367, 68.35568565, 54.22359107, 58.1803915 , 71.7033548 ,\n",
       "       63.87528197, 96.18468532, 57.66112076, 38.7373659 , 66.04765729,\n",
       "       38.39921191, 73.36953984, 80.07443484, 63.53670314, 76.97397718,\n",
       "       46.20407057, 62.82811952, 74.00635285, 60.87812814, 49.78026005,\n",
       "       55.77061823, 56.1066519 , 49.26200304, 49.30449989, 64.77500048,\n",
       "       70.77340507, 42.8168908 , 43.90526444, 71.78130916, 78.07385653,\n",
       "       82.89868421, 66.2219625 , 47.70312556, 57.21156554, 45.79568147,\n",
       "       22.57837357, 43.10545683, 64.80371079, 60.26580297, 67.02753427,\n",
       "       62.75136746, 48.19351629, 55.49501059, 83.61148422, 61.73500915,\n",
       "       55.73333823, 45.65028449, 76.86629132, 75.37115818, 63.88374499,\n",
       "       73.7382883 , 41.03842999, 43.65267168, 65.92846276, 62.1088985 ,\n",
       "       83.91222063, 43.5408295 , 44.41368764, 81.42377923, 44.6168296 ,\n",
       "       79.39204774, 80.75267444, 44.40331231, 58.09127488, 54.05296145,\n",
       "       63.15019702, 44.0563414 , 81.7715254 , 41.87801547, 80.29898527,\n",
       "       61.23502526, 47.73751416, 76.72440085, 62.4333687 , 62.33968035,\n",
       "       57.9848457 , 44.77748489, 79.98001294, 56.42361481, 51.80435607,\n",
       "       81.88695354, 65.85387695, 54.40966352, 56.52986732, 64.03133904,\n",
       "       45.28883421, 46.77811809, 58.8710069 , 52.86839432, 68.56219912,\n",
       "       71.58596646, 61.35796797, 55.14112053, 58.1471675 , 50.91011258,\n",
       "       68.65492003, 74.05450051, 15.20501488, 63.59825369, 67.38054267])"
      ]
     },
     "execution_count": 76,
     "metadata": {},
     "output_type": "execute_result"
    }
   ],
   "source": [
    "from sklearn.linear_model import LinearRegression\n",
    "model1 = LinearRegression()\n",
    "model1.fit(x_train, y_train)\n",
    "y_pred1 = model1.predict(x_test)\n",
    "y_pred1"
   ]
  },
  {
   "cell_type": "code",
   "execution_count": 77,
   "id": "ce2542b9",
   "metadata": {},
   "outputs": [
    {
     "data": {
      "text/plain": [
       "0.6179111337887035"
      ]
     },
     "execution_count": 77,
     "metadata": {},
     "output_type": "execute_result"
    }
   ],
   "source": [
    "from sklearn.metrics import r2_score\n",
    "r2_score(y_test, y_pred1)"
   ]
  },
  {
   "cell_type": "code",
   "execution_count": 78,
   "id": "4422e9a2",
   "metadata": {},
   "outputs": [],
   "source": [
    "from sklearn.neighbors import KNeighborsRegressor\n",
    "model2 = KNeighborsRegressor()\n",
    "model2.fit(x_train, y_train)\n",
    "y_pred2 = model2.predict(x_test)"
   ]
  },
  {
   "cell_type": "code",
   "execution_count": 79,
   "id": "d53d9be2",
   "metadata": {},
   "outputs": [
    {
     "data": {
      "text/plain": [
       "0.6145198427257783"
      ]
     },
     "execution_count": 79,
     "metadata": {},
     "output_type": "execute_result"
    }
   ],
   "source": [
    "r2_score(y_test, y_pred2)"
   ]
  },
  {
   "cell_type": "code",
   "execution_count": 80,
   "id": "1b653009",
   "metadata": {},
   "outputs": [],
   "source": [
    "from sklearn.tree import DecisionTreeRegressor\n",
    "model3 = DecisionTreeRegressor()\n",
    "model3.fit(x_train,y_train)\n",
    "y_pried3 = model3.predict(x_test)"
   ]
  },
  {
   "cell_type": "code",
   "execution_count": 81,
   "id": "5cf728a2",
   "metadata": {},
   "outputs": [
    {
     "data": {
      "text/plain": [
       "0.6145198427257783"
      ]
     },
     "execution_count": 81,
     "metadata": {},
     "output_type": "execute_result"
    }
   ],
   "source": [
    "r2_score(y_test, y_pred2)"
   ]
  },
  {
   "cell_type": "code",
   "execution_count": 82,
   "id": "244df386",
   "metadata": {},
   "outputs": [],
   "source": [
    "from sklearn.ensemble import RandomForestRegressor\n",
    "model4 = RandomForestRegressor()\n",
    "model4.fit(x_train, y_train)\n",
    "y_pred4 = model4.predict(x_test)"
   ]
  },
  {
   "cell_type": "code",
   "execution_count": 64,
   "id": "4617dd9c",
   "metadata": {},
   "outputs": [
    {
     "data": {
      "text/plain": [
       "0.7707742815913471"
      ]
     },
     "execution_count": 64,
     "metadata": {},
     "output_type": "execute_result"
    }
   ],
   "source": [
    "r2_score(y_test,y_pred4)"
   ]
  },
  {
   "cell_type": "code",
   "execution_count": 83,
   "id": "1e3c42aa",
   "metadata": {},
   "outputs": [],
   "source": [
    "import pickle"
   ]
  },
  {
   "cell_type": "code",
   "execution_count": 84,
   "id": "eb97abb5",
   "metadata": {},
   "outputs": [],
   "source": [
    "file3=open(\"rdforest_mode4.pk\",\"wb\")\n",
    "pickle.dump(model4,file3)\n",
    "file3.close()"
   ]
  },
  {
   "cell_type": "code",
   "execution_count": null,
   "id": "98f683e7",
   "metadata": {},
   "outputs": [],
   "source": []
  }
 ],
 "metadata": {
  "kernelspec": {
   "display_name": "Python 3",
   "language": "python",
   "name": "python3"
  },
  "language_info": {
   "codemirror_mode": {
    "name": "ipython",
    "version": 3
   },
   "file_extension": ".py",
   "mimetype": "text/x-python",
   "name": "python",
   "nbconvert_exporter": "python",
   "pygments_lexer": "ipython3",
   "version": "3.12.7"
  }
 },
 "nbformat": 4,
 "nbformat_minor": 5
}
